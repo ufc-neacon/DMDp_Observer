{
 "cells": [
  {
   "cell_type": "markdown",
   "id": "b920fb49-8d5f-4256-964e-618e0c518798",
   "metadata": {},
   "source": [
    "# On the Polynomial Observer for Nonlinear Systems\n",
    "\n",
    "<p style=\"font-size:16px\">\n",
    "This work proposes a novel <b>polynomial observable method</b> to approximate nonlinear systems with complex dynamics using a <i>data-driven decomposition approach</i>. \n",
    "The main contribution relies on providing an <b>accurate polynomial approximation</b> to devise a <b>state observer</b>, whose design may follow as usual.\n",
    "Our method employs an <b>LMI condition</b> within the polynomial framework to calculate the bounding limit. <br><br>\n",
    "The proposed method is evaluated in two distinct scenarios: a <b>reservoir systeml</b> with a single-state (<b>x -> liquid level</b>) system and an <b>undamped pendulum</b>  with two states (<b>x1 -> angular displacemnt</b> and <b>x2->angular velocity</b>).\n",
    "</p>\n"
   ]
  },
  {
   "cell_type": "markdown",
   "id": "bbf947b8-6a9a-4bc4-88b0-e7a903b4bb6f",
   "metadata": {},
   "source": [
    "<p style=\"font-size:16px\">\n",
    "This frist aplication is focused on a a reservoir system comprising two water tanks. One of them is placed at 5 m above the ground, initially empty referred to as the upper tank. Another tank at ground level is initially filled with water. A pump is activated to transfer water from the lower tank to the upper one via a pipe connection. A second pipe connects the upper and lower tanks, allowing water to flow downwards due to\n",
    "gravity. The manipulated variable is the signal sent to activate the water pump, and the measured variable is the water level in the upper tank. While this setup may seem straightforward, the upper tank has a conical shape, causing its cross-sectional area to change with height, for which the output ordinary differential equation is given by the equation:\n",
    "</p>\n",
    "$$\n",
    "\\frac{dh}{dt} =  \\frac{k_i \\omega - k_o\\sqrt{h}}{\\pi r^2 + \\frac{2 \\pi r h (r_L - r_S)}{H} + \\frac{\\pi h^2 (r_L - r_S)^2}{H^2}}\n",
    "$$"
   ]
  },
  {
   "cell_type": "code",
   "execution_count": null,
   "id": "86da8c18-6adf-4f3c-a26c-bb906a764ed5",
   "metadata": {},
   "outputs": [
    {
     "ename": "",
     "evalue": "",
     "output_type": "error",
     "traceback": [
      "\u001b[1;31mRunning cells with 'base (Python 3.11.9)' requires the ipykernel package.\n",
      "\u001b[1;31m<a href='command:jupyter.createPythonEnvAndSelectController'>Create a Python Environment</a> with the required packages.\n",
      "\u001b[1;31mOr install 'ipykernel' using the command: 'conda install -n base ipykernel --update-deps --force-reinstall'"
     ]
    }
   ],
   "source": [
    "#required libraries for code\n",
    "import numpy as np\n",
    "from scipy.integrate import odeint\n",
    "import matplotlib.pyplot as plt\n",
    "import pandas as pd\n",
    "from SOSPy import *\n",
    "from sympy import symbols, Matrix, diff\n",
    "import random\n",
    "\n",
    "import matplotlib as mpl\n",
    "\n",
    "\n",
    "#tank model definitions\n",
    "\n",
    "#tank shape\n",
    "def cylinder_volume(r, R, H, h):\n",
    "    return np.pi * r**2 * h + np.pi * r * h**2 * (R - r) / H + np.pi * h**3 * (R - r)**2 / (3 * H**2)\n",
    "\n",
    "#diferential equations for tank\n",
    "def ode_system(h, t, ki, ko, r, R, H, w):\n",
    "    return (ki * w - ko * np.sqrt(h)) / (np.pi * r**2 + 2 * np.pi * r * h * (R - r) / H + np.pi * h**2 * (R - r)**2 / H**2)\n",
    "\n",
    "def tank_model(xk, uk, cko):\n",
    "    # Parameters\n",
    "    r = 0.635\n",
    "    R = 0.73\n",
    "    H = 1.38\n",
    "    q_nominal = 14 / 3600\n",
    "    ki = q_nominal / (2 * np.pi * 60)\n",
    "    ko = cko * ki * 2 * np.pi * 60 / (np.sqrt(0.60 * H))\n",
    "\n",
    "    # Solve ODE\n",
    "    t_span = [0, 1]\n",
    "    ode_solution = odeint(ode_system, xk, np.linspace(t_span[0], t_span[1], 1000), args=(ki, ko, r, R, H, uk))\n",
    "\n",
    "    # Extract the final value\n",
    "    xk1 = ode_solution[-1]\n",
    "\n",
    "    # Ensure the value is within the limits [0, H]\n",
    "    xk1 = abs(xk1)\n",
    "    xk1 = max(min(xk1, H), 0)\n",
    "\n",
    "    return float(xk1), float(ki), float(ko)\n",
    "\n"
   ]
  },
  {
   "cell_type": "markdown",
   "id": "38ad3e5e-8b1a-485a-98aa-293f9ae502ec",
   "metadata": {},
   "source": [
    " <p style=\"font-size:16px\">\n",
    "     Definitions for polinomial aproximation and simulation parameters:<br><br>\n",
    "     deg-> polynomial model degree <br><br>\n",
    "     cko -> ko tank parameter <br><br>\n",
    "     cu -> input adjust parameter <br><br>\n",
    "     \n",
    " </p>"
   ]
  },
  {
   "cell_type": "code",
   "execution_count": null,
   "id": "ddd91691-ce26-40e7-9cae-c78fb762ce98",
   "metadata": {},
   "outputs": [],
   "source": [
    "deg = 7  #grau do polinomio utilizado\n",
    "Ts = 1 # taxa de amostragem\n",
    "Duration = 20000 # numero de amostras da simulação\n",
    "cko = 0.6 \n",
    "cu = 1\n",
    "\n",
    "Ta = np.arange(0, Duration, Ts).tolist() #vetor de tempo da simulação\n",
    "\n",
    "#print(Ta)\n"
   ]
  },
  {
   "cell_type": "code",
   "execution_count": null,
   "id": "208f7fef-628b-4ff9-a6d8-5d196ecb7994",
   "metadata": {},
   "outputs": [],
   "source": [
    "u = 0\n",
    "x = 0\n",
    "xT = []\n",
    "uT = []\n",
    "ruido = []\n",
    "for i in Ta:\n",
    "    u = cu * np.pi * 60 * (1 - np.cos(2 * np.pi * i / 2500)) # Calcula a entrada\n",
    "    x, _, _ = tank_model(x, u, cko) # Obetem a resposta do sistema\n",
    "    eta = 1*1e-2*(random.random()-0.5)\n",
    "    ruido.append(eta)\n",
    "    xT.append(x)\n",
    "    uT.append(u+eta)\n",
    "\n",
    "xT = np.array(xT)\n",
    "uT = np.array(uT)"
   ]
  },
  {
   "cell_type": "code",
   "execution_count": null,
   "id": "4fd9b8d9-7334-4836-a024-8faf6e5efa49",
   "metadata": {},
   "outputs": [],
   "source": [
    "len(xT)\n",
    "#plt.figure()\n",
    "#plt.plot(xT)\n",
    "#plt.plot(uT)\n",
    "#plt.show()"
   ]
  },
  {
   "cell_type": "markdown",
   "id": "d0206d38-b8bf-493e-8a94-33ffee92c178",
   "metadata": {},
   "source": [
    "inicialização das váriaveis para estimações polinomial e proposta"
   ]
  },
  {
   "cell_type": "code",
   "execution_count": null,
   "id": "f7beed93-dfbf-48d2-9b96-7ac979f2e975",
   "metadata": {},
   "outputs": [],
   "source": [
    "xDMDp_1 = []\n",
    "xDMDp = []\n",
    "x1 = xT[0]\n",
    "x = xT[0]\n"
   ]
  },
  {
   "cell_type": "code",
   "execution_count": null,
   "id": "bbe07ef2-3523-4049-8ee0-b2077cfd58be",
   "metadata": {},
   "outputs": [],
   "source": [
    "ar = np.arange(0,deg+1,1)\n",
    "print(ar)"
   ]
  },
  {
   "cell_type": "code",
   "execution_count": null,
   "id": "7c468fe9-55de-4ae4-9df5-c154a30f49b2",
   "metadata": {},
   "outputs": [],
   "source": []
  }
 ],
 "metadata": {
  "kernelspec": {
   "display_name": "base",
   "language": "python",
   "name": "python3"
  },
  "language_info": {
   "codemirror_mode": {
    "name": "ipython",
    "version": 3
   },
   "file_extension": ".py",
   "mimetype": "text/x-python",
   "name": "python",
   "nbconvert_exporter": "python",
   "pygments_lexer": "ipython3",
   "version": "3.11.9"
  }
 },
 "nbformat": 4,
 "nbformat_minor": 5
}
